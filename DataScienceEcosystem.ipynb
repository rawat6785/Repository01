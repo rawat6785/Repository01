{
 "cells": [
  {
   "cell_type": "markdown",
   "id": "31396c66-47da-412e-bd56-ccc9d52b56e3",
   "metadata": {},
   "source": [
    "# 2 - Data Science Tools and Ecosystem \n",
    "\n"
   ]
  },
  {
   "cell_type": "markdown",
   "id": "980d84b8-c013-43be-994b-a39fabe8d689",
   "metadata": {},
   "source": [
    "# 3 - Introduction\n",
    "In this notebook, Data Science Tools and Ecosystem are summarized.\n"
   ]
  },
  {
   "cell_type": "markdown",
   "id": "132bf376-2836-4e86-af60-2f032b485db7",
   "metadata": {},
   "source": [
    "# 4 - Some of the popular languages that Data Scientists use are:\n",
    "1. Python\n",
    "2. R\n",
    "3. SQL\n",
    "4. Julia"
   ]
  },
  {
   "cell_type": "markdown",
   "id": "6eafbc82-e987-4985-b59c-a2aff066f41a",
   "metadata": {},
   "source": [
    "# 5 -Some of the commonly used libraries used by Data Scientists include:\n",
    "1. Pandas\n",
    "2. Numpy\n",
    "3. Matplotlib\n",
    "4. Scikit-learn\n"
   ]
  },
  {
   "cell_type": "markdown",
   "id": "d1684664-1ffd-4e4d-9ae1-d128860598d8",
   "metadata": {},
   "source": [
    "# 6 - Data Science Tools\n",
    "| Tool | Use |\n",
    "| --- | --- |\n",
    "| Jupyter Notebook | Interactive coding and documentation |\n",
    "| R Studio | Statistical analysis and visualization |\n",
    "| Tableau | Data visualization |\n"
   ]
  },
  {
   "cell_type": "markdown",
   "id": "922660cc-c8f0-4be6-ae86-71d37f250082",
   "metadata": {},
   "source": [
    "# 7 -Below are a few examples of evaluating arithmetic expressions in Python\n",
    "- Addition: `3 + 2 = 5`\n",
    "- Subtraction: `3 - 2 = 1`\n",
    "- Multiplication: `3 * 2 = 6`\n",
    "- Division: `3 / 2 = 1.5`\n"
   ]
  },
  {
   "cell_type": "code",
   "execution_count": 4,
   "id": "28922a99-8e72-443b-95b7-061807363816",
   "metadata": {},
   "outputs": [
    {
     "name": "stdout",
     "output_type": "stream",
     "text": [
      "17\n"
     ]
    }
   ],
   "source": [
    "# 8 - Multiply and Add Numbers\n",
    "result = (3*4)+5\n",
    "print(result)\n"
   ]
  },
  {
   "cell_type": "code",
   "execution_count": 3,
   "id": "a5f9e146-499f-44c5-b1ca-3adacb1e674b",
   "metadata": {},
   "outputs": [
    {
     "name": "stdout",
     "output_type": "stream",
     "text": [
      "3.3333333333333335\n"
     ]
    }
   ],
   "source": [
    "# 9 - Convert Minutes to Hours\n",
    "minutes = 200\n",
    "hours = minutes / 60\n",
    "print(hours)\n"
   ]
  },
  {
   "cell_type": "markdown",
   "id": "80a75136-bb35-4eb1-adfa-68c4e7c9a2dc",
   "metadata": {},
   "source": [
    "# 10 - Objectives:\n",
    "- Objective 1 - Popular languages in Data Science - Python, R, SQL, Julia \n",
    "- Objective 2 - Commonly used libraires - Pandas, Numpy, Matplotlib, Scikit - Learn\n",
    "- Objective 3 - DAta Science Tools - Jupyter Notebook, R Studio, Tableau"
   ]
  },
  {
   "cell_type": "markdown",
   "id": "6900d7b5-9634-4072-8dd1-030e5cc72534",
   "metadata": {},
   "source": [
    "# 11 - Author\n",
    "Author: Akhil Rawat\n"
   ]
  },
  {
   "cell_type": "code",
   "execution_count": null,
   "id": "18d5a89b-9f89-4e64-ba8c-2ed8b7e0a401",
   "metadata": {},
   "outputs": [],
   "source": []
  },
  {
   "cell_type": "code",
   "execution_count": null,
   "id": "7d70855d-184a-400b-823d-8412ec779b12",
   "metadata": {},
   "outputs": [],
   "source": []
  },
  {
   "cell_type": "code",
   "execution_count": null,
   "id": "60f3ab36-93a7-482e-8bd8-2c402379d5d0",
   "metadata": {},
   "outputs": [],
   "source": []
  },
  {
   "cell_type": "code",
   "execution_count": null,
   "id": "e202623a-d4b1-4b20-bfbd-c1ba9b359cf4",
   "metadata": {},
   "outputs": [],
   "source": []
  },
  {
   "cell_type": "code",
   "execution_count": null,
   "id": "bd5601e9-7bac-48bd-84dd-ec26aea144b0",
   "metadata": {},
   "outputs": [],
   "source": []
  },
  {
   "cell_type": "code",
   "execution_count": null,
   "id": "27fcd344-7ea2-4cdf-bab4-698539cad147",
   "metadata": {},
   "outputs": [],
   "source": []
  },
  {
   "cell_type": "code",
   "execution_count": null,
   "id": "f68a6191-aae1-408d-b5d7-be40fe953278",
   "metadata": {},
   "outputs": [],
   "source": []
  }
 ],
 "metadata": {
  "kernelspec": {
   "display_name": "Python 3 (ipykernel)",
   "language": "python",
   "name": "python3"
  },
  "language_info": {
   "codemirror_mode": {
    "name": "ipython",
    "version": 3
   },
   "file_extension": ".py",
   "mimetype": "text/x-python",
   "name": "python",
   "nbconvert_exporter": "python",
   "pygments_lexer": "ipython3",
   "version": "3.11.7"
  }
 },
 "nbformat": 4,
 "nbformat_minor": 5
}
